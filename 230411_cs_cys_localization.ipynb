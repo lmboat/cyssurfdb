{
 "cells": [
  {
   "cell_type": "markdown",
   "metadata": {},
   "source": [
    "# Create a Cell Surface Database for Cell Surface Cysteines (CS-Cys)"
   ]
  },
  {
   "cell_type": "markdown",
   "metadata": {},
   "source": [
    "## import modules"
   ]
  },
  {
   "cell_type": "code",
   "execution_count": 1,
   "metadata": {},
   "outputs": [],
   "source": [
    "import os, sys\n",
    "import numpy as np\n",
    "import matplotlib as plt\n",
    "import pandas as pd\n",
    "import csv"
   ]
  },
  {
   "cell_type": "code",
   "execution_count": 2,
   "metadata": {},
   "outputs": [
    {
     "data": {
      "text/plain": [
       "'/Users/lisamarieboatner/Dropbox/Backus/Scripts/Jupyter'"
      ]
     },
     "execution_count": 2,
     "metadata": {},
     "output_type": "execute_result"
    }
   ],
   "source": [
    "cd = os.getcwd()\n",
    "cd"
   ]
  },
  {
   "cell_type": "markdown",
   "metadata": {},
   "source": [
    "# Read Cell Where"
   ]
  },
  {
   "cell_type": "markdown",
   "metadata": {},
   "source": [
    "## Download Cell Where Annotations from https://www.sys-myo.com/cellwhere/"
   ]
  },
  {
   "cell_type": "code",
   "execution_count": 91,
   "metadata": {},
   "outputs": [],
   "source": [
    "cw_df = pd.read_csv('220902_cellwhere_uniprot_go.csv')"
   ]
  },
  {
   "cell_type": "code",
   "execution_count": 93,
   "metadata": {},
   "outputs": [],
   "source": [
    "cw_protein_ids = list(cw_df['protein'].unique())"
   ]
  },
  {
   "cell_type": "code",
   "execution_count": 94,
   "metadata": {},
   "outputs": [],
   "source": [
    "cw_df = cw_df.rename(columns = {'location': 'cw_location', 'score': 'cw_score', 'protein': 'Entry'})"
   ]
  },
  {
   "cell_type": "markdown",
   "metadata": {},
   "source": [
    "# Read Human Protein Atlas"
   ]
  },
  {
   "cell_type": "markdown",
   "metadata": {},
   "source": [
    "# Download Human Protein Atlas from https://www.proteinatlas.org/about/download"
   ]
  },
  {
   "cell_type": "code",
   "execution_count": 13,
   "metadata": {},
   "outputs": [],
   "source": [
    "hpa_df = pd.read_csv('proteinatlas.tsv', sep = '\\t')"
   ]
  },
  {
   "cell_type": "code",
   "execution_count": 95,
   "metadata": {},
   "outputs": [],
   "source": [
    "subset_hpa_df = hpa_df[['Gene', 'Uniprot', 'Subcellular main location']]"
   ]
  },
  {
   "cell_type": "code",
   "execution_count": 96,
   "metadata": {},
   "outputs": [],
   "source": [
    "subset_hpa_df = subset_hpa_df.drop_duplicates()"
   ]
  },
  {
   "cell_type": "code",
   "execution_count": 97,
   "metadata": {},
   "outputs": [],
   "source": [
    "def group_hpa(df):\n",
    "    df = df[df['Subcellular main location'].isna() == False]\n",
    "    \n",
    "    groups = df.groupby('Uniprot')\n",
    "    names = []\n",
    "    vals = []\n",
    "    \n",
    "    for name, group in groups:\n",
    "        names.append(name)\n",
    "        current = list(group['Subcellular main location'].unique())\n",
    "        st = ''\n",
    "        \n",
    "        for i in range(len(current)):\n",
    "            if current[i] != '':\n",
    "                st += current[i] + ';'\n",
    "                \n",
    "        vals.append(st[:-1])\n",
    "        \n",
    "        \n",
    "    return names, vals"
   ]
  },
  {
   "cell_type": "code",
   "execution_count": 98,
   "metadata": {},
   "outputs": [],
   "source": [
    "pros, vals = group_hpa(subset_hpa_df)"
   ]
  },
  {
   "cell_type": "code",
   "execution_count": 99,
   "metadata": {},
   "outputs": [],
   "source": [
    "new_hpa_df = pd.DataFrame()\n",
    "new_hpa_df['Entry'] = pros\n",
    "new_hpa_df['hpa_location'] = vals"
   ]
  },
  {
   "cell_type": "markdown",
   "metadata": {},
   "source": [
    "# Read UniProt"
   ]
  },
  {
   "cell_type": "markdown",
   "metadata": {},
   "source": [
    "# Download UniProt Subcellular Location Annotations from https://www.uniprot.org/"
   ]
  },
  {
   "cell_type": "code",
   "execution_count": 7,
   "metadata": {},
   "outputs": [
    {
     "name": "stderr",
     "output_type": "stream",
     "text": [
      "/Users/lisamarieboatner/opt/anaconda3/lib/python3.9/site-packages/IPython/core/interactiveshell.py:3444: DtypeWarning: Columns (22,24,26,32,35) have mixed types.Specify dtype option on import or set low_memory=False.\n",
      "  exec(code_obj, self.user_global_ns, self.user_ns)\n"
     ]
    }
   ],
   "source": [
    "u_df = pd.read_csv('2301_uniprot_annotated.csv')"
   ]
  },
  {
   "cell_type": "code",
   "execution_count": 100,
   "metadata": {},
   "outputs": [],
   "source": [
    "subset_u_df = u_df[[\n",
    " 'Entry',\n",
    " 'Entry Name',\n",
    " 'Protein names',\n",
    " 'Gene Names',\n",
    " 'Gene Names (primary)',\n",
    " 'Gene Names (synonym)',\n",
    " 'Mass',\n",
    " 'Keywords',\n",
    " 'Gene Ontology (cellular component)',\n",
    " 'Subcellular location [CC]'\n",
    "]]"
   ]
  },
  {
   "cell_type": "code",
   "execution_count": 101,
   "metadata": {},
   "outputs": [],
   "source": [
    "subset_u_df = subset_u_df.rename(columns = {'Subcellular location [CC]': 'uniprot_location'})"
   ]
  },
  {
   "cell_type": "markdown",
   "metadata": {},
   "source": [
    "# Merge Cell Where, HPA and UniProt"
   ]
  },
  {
   "cell_type": "code",
   "execution_count": 103,
   "metadata": {},
   "outputs": [],
   "source": [
    "merged_df = pd.merge(subset_u_df, new_hpa_df, on = 'Entry', how = 'left')"
   ]
  },
  {
   "cell_type": "code",
   "execution_count": 104,
   "metadata": {},
   "outputs": [],
   "source": [
    "merged_df = pd.merge(merged_df, cw_df, on = 'Entry', how = 'left')"
   ]
  },
  {
   "cell_type": "markdown",
   "metadata": {},
   "source": [
    "# Add Labels"
   ]
  },
  {
   "cell_type": "code",
   "execution_count": 84,
   "metadata": {},
   "outputs": [],
   "source": [
    "# Mitochon, endoplasmic, golgi, nucleus, cytosol,cytoplasm"
   ]
  },
  {
   "cell_type": "code",
   "execution_count": 112,
   "metadata": {},
   "outputs": [],
   "source": [
    "def get_category_labels(df, kws):\n",
    "    df = df.fillna('')\n",
    "    \n",
    "    kw = kws.split(';')\n",
    "    label = []\n",
    "    \n",
    "    for index, row in df.iterrows():\n",
    "        label_true = False\n",
    "        \n",
    "        for i in range(len(cat_cols)):\n",
    "            current = row[cat_cols[i]]\n",
    "            current = current.lower()\n",
    "            \n",
    "            for j in range(len(kw)):\n",
    "                if kw[j].lower() in current:\n",
    "                    label_true = True\n",
    "                \n",
    "        if label_true == True:\n",
    "            label.append('yes')\n",
    "        else:\n",
    "            label.append(None)\n",
    "            \n",
    "    return label\n",
    "        "
   ]
  },
  {
   "cell_type": "code",
   "execution_count": 105,
   "metadata": {},
   "outputs": [],
   "source": [
    "cat_cols = ['uniprot_location', 'hpa_location', 'cw_location']"
   ]
  },
  {
   "cell_type": "code",
   "execution_count": 119,
   "metadata": {},
   "outputs": [],
   "source": [
    "labels = get_category_labels(merged_df, 'membrane')\n",
    "merged_df['membrane'] = labels"
   ]
  },
  {
   "cell_type": "code",
   "execution_count": 120,
   "metadata": {},
   "outputs": [],
   "source": [
    "labels = get_category_labels(merged_df, 'golgi')\n",
    "merged_df['golgi'] = labels"
   ]
  },
  {
   "cell_type": "code",
   "execution_count": 121,
   "metadata": {},
   "outputs": [],
   "source": [
    "labels = get_category_labels(merged_df, 'endoplasmic')\n",
    "merged_df['endo'] = labels"
   ]
  },
  {
   "cell_type": "code",
   "execution_count": 122,
   "metadata": {},
   "outputs": [],
   "source": [
    "labels = get_category_labels(merged_df, 'mitochon')\n",
    "merged_df['mito'] = labels"
   ]
  },
  {
   "cell_type": "code",
   "execution_count": 123,
   "metadata": {},
   "outputs": [],
   "source": [
    "labels = get_category_labels(merged_df, 'nucleus')\n",
    "merged_df['nucleus'] = labels"
   ]
  },
  {
   "cell_type": "code",
   "execution_count": 124,
   "metadata": {},
   "outputs": [],
   "source": [
    "labels = get_category_labels(merged_df, 'cytosol;cytoplasm')\n",
    "merged_df['cyto'] = labels"
   ]
  },
  {
   "cell_type": "markdown",
   "metadata": {},
   "source": [
    "# Cell Surface Labels"
   ]
  },
  {
   "cell_type": "code",
   "execution_count": null,
   "metadata": {},
   "outputs": [],
   "source": [
    "def get_category_surface_labels(df, kws, cat_cols):\n",
    "    df = df.fillna('')\n",
    "    \n",
    "    kw = kws.split(';')\n",
    "    label = []\n",
    "    \n",
    "    for index, row in df.iterrows():\n",
    "        label_true = False\n",
    "        \n",
    "        for i in range(len(cat_cols)):\n",
    "            current = row[cat_cols[i]]\n",
    "            current = current.lower()\n",
    "            \n",
    "            for j in range(len(kw)):\n",
    "                if kw[j].lower() in current:\n",
    "                    label_true = True\n",
    "                \n",
    "        if label_true == True:\n",
    "            label.append('yes')\n",
    "        else:\n",
    "            label.append(None)\n",
    "\n",
    "    return label\n",
    "        "
   ]
  },
  {
   "cell_type": "code",
   "execution_count": null,
   "metadata": {},
   "outputs": [],
   "source": [
    "labels = get_category_surface_labels(merged_df, 'cell surface;cell membrane', ['uniprot_location'])\n",
    "merged_df['cellsurface_uniprot'] = labels"
   ]
  },
  {
   "cell_type": "code",
   "execution_count": null,
   "metadata": {},
   "outputs": [],
   "source": [
    "labels = get_category_surface_labels(merged_df, 'plasma membrane', ['hpa_location'])\n",
    "merged_df['cellsurface_hpa'] = labels"
   ]
  },
  {
   "cell_type": "code",
   "execution_count": null,
   "metadata": {},
   "outputs": [],
   "source": [
    "labels = get_category_surface_labels(merged_df, 'cell surface;membrane', ['cw_location'])\n",
    "merged_df['cellsurface_cw'] = labels"
   ]
  },
  {
   "cell_type": "code",
   "execution_count": null,
   "metadata": {},
   "outputs": [],
   "source": [
    "merged_df['cellsurface'] = np.where((merged_df['cellsurface_uniprot'] == 'yes') | (merged_df['cellsurface_hpa'] == 'yes') | (merged_df['cellsurface_cw'] == 'yes'), 'yes', None)"
   ]
  },
  {
   "cell_type": "code",
   "execution_count": 126,
   "metadata": {},
   "outputs": [
    {
     "data": {
      "text/html": [
       "<div>\n",
       "<style scoped>\n",
       "    .dataframe tbody tr th:only-of-type {\n",
       "        vertical-align: middle;\n",
       "    }\n",
       "\n",
       "    .dataframe tbody tr th {\n",
       "        vertical-align: top;\n",
       "    }\n",
       "\n",
       "    .dataframe thead th {\n",
       "        text-align: right;\n",
       "    }\n",
       "</style>\n",
       "<table border=\"1\" class=\"dataframe\">\n",
       "  <thead>\n",
       "    <tr style=\"text-align: right;\">\n",
       "      <th></th>\n",
       "      <th>Entry</th>\n",
       "      <th>Entry Name</th>\n",
       "      <th>Protein names</th>\n",
       "      <th>Gene Names</th>\n",
       "      <th>Gene Names (primary)</th>\n",
       "      <th>Gene Names (synonym)</th>\n",
       "      <th>Mass</th>\n",
       "      <th>Keywords</th>\n",
       "      <th>Gene Ontology (cellular component)</th>\n",
       "      <th>uniprot_location</th>\n",
       "      <th>hpa_location</th>\n",
       "      <th>cw_location</th>\n",
       "      <th>cw_score</th>\n",
       "      <th>membrane</th>\n",
       "      <th>golgi</th>\n",
       "      <th>endo</th>\n",
       "      <th>mito</th>\n",
       "      <th>cyto</th>\n",
       "      <th>nucleus</th>\n",
       "      <th>cellsurface</th>\n",
       "    </tr>\n",
       "  </thead>\n",
       "  <tbody>\n",
       "    <tr>\n",
       "      <th>0</th>\n",
       "      <td>A0A087X1C5</td>\n",
       "      <td>CP2D7_HUMAN</td>\n",
       "      <td>Putative cytochrome P450 2D7 (EC 1.14.14.1)</td>\n",
       "      <td>CYP2D7</td>\n",
       "      <td>CYP2D7</td>\n",
       "      <td>NaN</td>\n",
       "      <td>57489</td>\n",
       "      <td>Cytoplasm;Glycoprotein;Heme;Iron;Membrane;Meta...</td>\n",
       "      <td>cytoplasm [GO:0005737]; intracellular membrane...</td>\n",
       "      <td>SUBCELLULAR LOCATION: Membrane {ECO:0000305}; ...</td>\n",
       "      <td>NaN</td>\n",
       "      <td>Membrane;Cytoplasm;Mitochondrion</td>\n",
       "      <td>0.5;0.25;0.25</td>\n",
       "      <td>yes</td>\n",
       "      <td>None</td>\n",
       "      <td>None</td>\n",
       "      <td>yes</td>\n",
       "      <td>yes</td>\n",
       "      <td>None</td>\n",
       "      <td>yes</td>\n",
       "    </tr>\n",
       "    <tr>\n",
       "      <th>1</th>\n",
       "      <td>A0A0B4J2F0</td>\n",
       "      <td>PIOS1_HUMAN</td>\n",
       "      <td>Protein PIGBOS1 (PIGB opposite strand protein 1)</td>\n",
       "      <td>PIGBOS1</td>\n",
       "      <td>PIGBOS1</td>\n",
       "      <td>NaN</td>\n",
       "      <td>6313</td>\n",
       "      <td>Direct protein sequencing;Membrane;Mitochondri...</td>\n",
       "      <td>mitochondrial outer membrane [GO:0005741]</td>\n",
       "      <td>SUBCELLULAR LOCATION: Mitochondrion outer memb...</td>\n",
       "      <td>NaN</td>\n",
       "      <td>Mitochondrion;Membrane</td>\n",
       "      <td>0.67;0.33</td>\n",
       "      <td>yes</td>\n",
       "      <td>None</td>\n",
       "      <td>None</td>\n",
       "      <td>yes</td>\n",
       "      <td>None</td>\n",
       "      <td>None</td>\n",
       "      <td>yes</td>\n",
       "    </tr>\n",
       "    <tr>\n",
       "      <th>2</th>\n",
       "      <td>A0A0B4J2F2</td>\n",
       "      <td>SIK1B_HUMAN</td>\n",
       "      <td>Putative serine/threonine-protein kinase SIK1B...</td>\n",
       "      <td>SIK1B</td>\n",
       "      <td>SIK1B</td>\n",
       "      <td>NaN</td>\n",
       "      <td>84930</td>\n",
       "      <td>ATP-binding;Kinase;Magnesium;Metal-binding;Nuc...</td>\n",
       "      <td>cytoplasm [GO:0005737]</td>\n",
       "      <td>NaN</td>\n",
       "      <td>Nucleoplasm</td>\n",
       "      <td>Cytoplasm</td>\n",
       "      <td>1.0</td>\n",
       "      <td>None</td>\n",
       "      <td>None</td>\n",
       "      <td>None</td>\n",
       "      <td>None</td>\n",
       "      <td>yes</td>\n",
       "      <td>None</td>\n",
       "      <td>None</td>\n",
       "    </tr>\n",
       "    <tr>\n",
       "      <th>3</th>\n",
       "      <td>A0A0C5B5G6</td>\n",
       "      <td>MOTSC_HUMAN</td>\n",
       "      <td>Mitochondrial-derived peptide MOTS-c (Mitochon...</td>\n",
       "      <td>MT-RNR1</td>\n",
       "      <td>MT-RNR1</td>\n",
       "      <td>NaN</td>\n",
       "      <td>2175</td>\n",
       "      <td>DNA-binding;Mitochondrion;Nucleus;Osteogenesis...</td>\n",
       "      <td>extracellular space [GO:0005615]; mitochondrio...</td>\n",
       "      <td>SUBCELLULAR LOCATION: Secreted {ECO:0000269|Pu...</td>\n",
       "      <td>NaN</td>\n",
       "      <td>Nucleus;Mitochondrion;Extracellular</td>\n",
       "      <td>0.33;0.33;0.33</td>\n",
       "      <td>None</td>\n",
       "      <td>None</td>\n",
       "      <td>None</td>\n",
       "      <td>yes</td>\n",
       "      <td>None</td>\n",
       "      <td>yes</td>\n",
       "      <td>yes</td>\n",
       "    </tr>\n",
       "    <tr>\n",
       "      <th>4</th>\n",
       "      <td>A0A0K2S4Q6</td>\n",
       "      <td>CD3CH_HUMAN</td>\n",
       "      <td>Protein CD300H (CD300 antigen-like family memb...</td>\n",
       "      <td>CD300H</td>\n",
       "      <td>CD300H</td>\n",
       "      <td>NaN</td>\n",
       "      <td>21806</td>\n",
       "      <td>Alternative splicing;Disulfide bond;Glycoprote...</td>\n",
       "      <td>extracellular region [GO:0005576]; plasma memb...</td>\n",
       "      <td>SUBCELLULAR LOCATION: [Isoform 1]: Membrane {E...</td>\n",
       "      <td>NaN</td>\n",
       "      <td>Membrane;Extracellular;Unknown</td>\n",
       "      <td>0.5;0.25;0.25</td>\n",
       "      <td>yes</td>\n",
       "      <td>None</td>\n",
       "      <td>None</td>\n",
       "      <td>None</td>\n",
       "      <td>None</td>\n",
       "      <td>None</td>\n",
       "      <td>yes</td>\n",
       "    </tr>\n",
       "  </tbody>\n",
       "</table>\n",
       "</div>"
      ],
      "text/plain": [
       "        Entry   Entry Name                                      Protein names  \\\n",
       "0  A0A087X1C5  CP2D7_HUMAN        Putative cytochrome P450 2D7 (EC 1.14.14.1)   \n",
       "1  A0A0B4J2F0  PIOS1_HUMAN   Protein PIGBOS1 (PIGB opposite strand protein 1)   \n",
       "2  A0A0B4J2F2  SIK1B_HUMAN  Putative serine/threonine-protein kinase SIK1B...   \n",
       "3  A0A0C5B5G6  MOTSC_HUMAN  Mitochondrial-derived peptide MOTS-c (Mitochon...   \n",
       "4  A0A0K2S4Q6  CD3CH_HUMAN  Protein CD300H (CD300 antigen-like family memb...   \n",
       "\n",
       "  Gene Names Gene Names (primary) Gene Names (synonym)   Mass  \\\n",
       "0     CYP2D7               CYP2D7                  NaN  57489   \n",
       "1    PIGBOS1              PIGBOS1                  NaN   6313   \n",
       "2      SIK1B                SIK1B                  NaN  84930   \n",
       "3    MT-RNR1              MT-RNR1                  NaN   2175   \n",
       "4     CD300H               CD300H                  NaN  21806   \n",
       "\n",
       "                                            Keywords  \\\n",
       "0  Cytoplasm;Glycoprotein;Heme;Iron;Membrane;Meta...   \n",
       "1  Direct protein sequencing;Membrane;Mitochondri...   \n",
       "2  ATP-binding;Kinase;Magnesium;Metal-binding;Nuc...   \n",
       "3  DNA-binding;Mitochondrion;Nucleus;Osteogenesis...   \n",
       "4  Alternative splicing;Disulfide bond;Glycoprote...   \n",
       "\n",
       "                  Gene Ontology (cellular component)  \\\n",
       "0  cytoplasm [GO:0005737]; intracellular membrane...   \n",
       "1          mitochondrial outer membrane [GO:0005741]   \n",
       "2                             cytoplasm [GO:0005737]   \n",
       "3  extracellular space [GO:0005615]; mitochondrio...   \n",
       "4  extracellular region [GO:0005576]; plasma memb...   \n",
       "\n",
       "                                    uniprot_location hpa_location  \\\n",
       "0  SUBCELLULAR LOCATION: Membrane {ECO:0000305}; ...          NaN   \n",
       "1  SUBCELLULAR LOCATION: Mitochondrion outer memb...          NaN   \n",
       "2                                                NaN  Nucleoplasm   \n",
       "3  SUBCELLULAR LOCATION: Secreted {ECO:0000269|Pu...          NaN   \n",
       "4  SUBCELLULAR LOCATION: [Isoform 1]: Membrane {E...          NaN   \n",
       "\n",
       "                           cw_location        cw_score membrane golgi  endo  \\\n",
       "0     Membrane;Cytoplasm;Mitochondrion   0.5;0.25;0.25      yes  None  None   \n",
       "1               Mitochondrion;Membrane       0.67;0.33      yes  None  None   \n",
       "2                            Cytoplasm             1.0     None  None  None   \n",
       "3  Nucleus;Mitochondrion;Extracellular  0.33;0.33;0.33     None  None  None   \n",
       "4       Membrane;Extracellular;Unknown   0.5;0.25;0.25      yes  None  None   \n",
       "\n",
       "   mito  cyto nucleus cellsurface  \n",
       "0   yes   yes    None         yes  \n",
       "1   yes  None    None         yes  \n",
       "2  None   yes    None        None  \n",
       "3   yes  None     yes         yes  \n",
       "4  None  None    None         yes  "
      ]
     },
     "execution_count": 126,
     "metadata": {},
     "output_type": "execute_result"
    }
   ],
   "source": [
    "merged_df.head()"
   ]
  },
  {
   "cell_type": "code",
   "execution_count": 127,
   "metadata": {},
   "outputs": [],
   "source": [
    "merged_df.to_csv('230215_localization.csv', index = False)"
   ]
  },
  {
   "cell_type": "code",
   "execution_count": null,
   "metadata": {},
   "outputs": [],
   "source": []
  }
 ],
 "metadata": {
  "kernelspec": {
   "display_name": "Python 3",
   "language": "python",
   "name": "python3"
  },
  "language_info": {
   "codemirror_mode": {
    "name": "ipython",
    "version": 3
   },
   "file_extension": ".py",
   "mimetype": "text/x-python",
   "name": "python",
   "nbconvert_exporter": "python",
   "pygments_lexer": "ipython3",
   "version": "3.8.8"
  }
 },
 "nbformat": 4,
 "nbformat_minor": 4
}
